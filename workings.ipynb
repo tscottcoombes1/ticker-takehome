{
 "cells": [
  {
   "cell_type": "code",
   "execution_count": 7,
   "id": "d30cfe72-e5c8-4797-bed9-edb2e3cdf0d0",
   "metadata": {},
   "outputs": [
    {
     "data": {
      "text/plain": [
       "True"
      ]
     },
     "execution_count": 7,
     "metadata": {},
     "output_type": "execute_result"
    }
   ],
   "source": [
    "from polygon import RESTClient\n",
    "from polygon.rest.models import Agg\n",
    "from dotenv import load_dotenv\n",
    "import os\n",
    "import datetime\n",
    "\n",
    "load_dotenv()"
   ]
  },
  {
   "cell_type": "code",
   "execution_count": 10,
   "id": "751a344e-1307-4ff7-8850-a76019f2446a",
   "metadata": {},
   "outputs": [],
   "source": [
    "KEY = os.getenv(\"POLYGON_API_KEY\")\n",
    "client = RESTClient(api_key=KEY)\n",
    "ticker = \"TSLA\"\n",
    "trade_date = datetime.datetime(2025, 1, 1)\n",
    "\n",
    "response = client.get_aggs(\n",
    "    ticker=ticker,\n",
    "    multiplier=1,\n",
    "    timespan=\"day\",\n",
    "    from_=trade_date,\n",
    "    to=datetime.timedelta(days=1) + trade_date,\n",
    "    adjusted=False,\n",
    "    sort=\"asc\",\n",
    "    limit=50_000,  # upper limit\n",
    ")"
   ]
  },
  {
   "cell_type": "code",
   "execution_count": 11,
   "id": "965888d8-b416-41b3-8483-04e985928c9e",
   "metadata": {},
   "outputs": [
    {
     "data": {
      "text/plain": [
       "[Agg(open=423.79, high=427.93, low=402.54, close=403.84, volume=76825121.0, vwap=412.925, timestamp=1735621200000, transactions=1214553, otc=None)]"
      ]
     },
     "execution_count": 11,
     "metadata": {},
     "output_type": "execute_result"
    }
   ],
   "source": [
    "response"
   ]
  },
  {
   "cell_type": "code",
   "execution_count": 15,
   "id": "0d97e9a1-0bd1-4df2-98ec-a9e822cfb63f",
   "metadata": {},
   "outputs": [
    {
     "data": {
      "text/plain": [
       "['__annotations__',\n",
       " '__class__',\n",
       " '__dataclass_fields__',\n",
       " '__dataclass_params__',\n",
       " '__delattr__',\n",
       " '__dict__',\n",
       " '__dir__',\n",
       " '__doc__',\n",
       " '__eq__',\n",
       " '__firstlineno__',\n",
       " '__format__',\n",
       " '__ge__',\n",
       " '__getattribute__',\n",
       " '__getstate__',\n",
       " '__gt__',\n",
       " '__hash__',\n",
       " '__init__',\n",
       " '__init_subclass__',\n",
       " '__le__',\n",
       " '__lt__',\n",
       " '__match_args__',\n",
       " '__module__',\n",
       " '__ne__',\n",
       " '__new__',\n",
       " '__reduce__',\n",
       " '__reduce_ex__',\n",
       " '__replace__',\n",
       " '__repr__',\n",
       " '__setattr__',\n",
       " '__sizeof__',\n",
       " '__static_attributes__',\n",
       " '__str__',\n",
       " '__subclasshook__',\n",
       " '__weakref__',\n",
       " 'close',\n",
       " 'from_dict',\n",
       " 'high',\n",
       " 'low',\n",
       " 'open',\n",
       " 'otc',\n",
       " 'timestamp',\n",
       " 'transactions',\n",
       " 'volume',\n",
       " 'vwap']"
      ]
     },
     "execution_count": 15,
     "metadata": {},
     "output_type": "execute_result"
    }
   ],
   "source": [
    "dir(response[0])"
   ]
  },
  {
   "cell_type": "code",
   "execution_count": 16,
   "id": "7a861e02-7ec8-49d2-b8a4-26fb67b5bc8c",
   "metadata": {},
   "outputs": [
    {
     "data": {
      "text/plain": [
       "{'open': 423.79,\n",
       " 'high': 427.93,\n",
       " 'low': 402.54,\n",
       " 'close': 403.84,\n",
       " 'volume': 76825121.0,\n",
       " 'vwap': 412.925,\n",
       " 'timestamp': 1735621200000,\n",
       " 'transactions': 1214553,\n",
       " 'otc': None}"
      ]
     },
     "execution_count": 16,
     "metadata": {},
     "output_type": "execute_result"
    }
   ],
   "source": [
    "response[0].__dict__"
   ]
  },
  {
   "cell_type": "code",
   "execution_count": 17,
   "id": "510a3d40-f9c3-4a7b-86e6-3547c70f5400",
   "metadata": {},
   "outputs": [],
   "source": [
    "agg = response[0]"
   ]
  },
  {
   "cell_type": "code",
   "execution_count": 18,
   "id": "2bc68871-30c5-4a29-b9ff-327a8f257b10",
   "metadata": {},
   "outputs": [
    {
     "data": {
      "text/plain": [
       "1735621200000"
      ]
     },
     "execution_count": 18,
     "metadata": {},
     "output_type": "execute_result"
    }
   ],
   "source": [
    "agg.timestamp"
   ]
  },
  {
   "cell_type": "code",
   "execution_count": 19,
   "id": "e074f42b-310d-41d3-af99-5375ec450d6e",
   "metadata": {},
   "outputs": [
    {
     "data": {
      "text/plain": [
       "int"
      ]
     },
     "execution_count": 19,
     "metadata": {},
     "output_type": "execute_result"
    }
   ],
   "source": [
    "type(agg.timestamp)"
   ]
  },
  {
   "cell_type": "code",
   "execution_count": 25,
   "id": "e378a3ec-1e62-47b6-87b7-3c51260272a3",
   "metadata": {},
   "outputs": [
    {
     "data": {
      "text/plain": [
       "datetime.datetime(2024, 12, 31, 5, 0)"
      ]
     },
     "execution_count": 25,
     "metadata": {},
     "output_type": "execute_result"
    }
   ],
   "source": [
    "datetime.datetime.fromtimestamp(agg.timestamp / 1000)"
   ]
  },
  {
   "cell_type": "code",
   "execution_count": 26,
   "id": "956e943a-d07d-4b93-bdaa-b4b83405832b",
   "metadata": {},
   "outputs": [],
   "source": [
    "import pytz"
   ]
  },
  {
   "cell_type": "code",
   "execution_count": 29,
   "id": "09cfe51e-3860-476c-944c-b5c96ac72be6",
   "metadata": {},
   "outputs": [
    {
     "data": {
      "text/plain": [
       "datetime.datetime(2024, 12, 31, 0, 0, tzinfo=<DstTzInfo 'US/Eastern' EST-1 day, 19:00:00 STD>)"
      ]
     },
     "execution_count": 29,
     "metadata": {},
     "output_type": "execute_result"
    }
   ],
   "source": [
    "dt_et = datetime.datetime.fromtimestamp(\n",
    "    agg.timestamp / 1000, tz=pytz.timezone(\"US/Eastern\")\n",
    ")\n",
    "dt_et"
   ]
  },
  {
   "cell_type": "code",
   "execution_count": 30,
   "id": "e3021576-d26b-46e4-be17-15a9f8026a18",
   "metadata": {},
   "outputs": [
    {
     "data": {
      "text/plain": [
       "datetime.datetime(2024, 12, 31, 5, 0, tzinfo=<UTC>)"
      ]
     },
     "execution_count": 30,
     "metadata": {},
     "output_type": "execute_result"
    }
   ],
   "source": [
    "dt_et.astimezone(pytz.timezone(\"UTC\"))"
   ]
  },
  {
   "cell_type": "markdown",
   "id": "87c8d088-ed1d-4ca2-89ca-83284d22c1ab",
   "metadata": {},
   "source": [
    "Looking at getting more than one day at a time"
   ]
  },
  {
   "cell_type": "code",
   "execution_count": 31,
   "id": "fcd0a311-920e-49a4-8a86-c08717cbfac6",
   "metadata": {},
   "outputs": [],
   "source": [
    "response = client.get_aggs(\n",
    "    ticker=ticker,\n",
    "    multiplier=1,\n",
    "    timespan=\"day\",\n",
    "    from_=trade_date,\n",
    "    to=datetime.datetime(2025, 2, 1),\n",
    "    adjusted=False,\n",
    "    sort=\"asc\",\n",
    "    limit=50_000,  # upper limit\n",
    ")"
   ]
  },
  {
   "cell_type": "code",
   "execution_count": 114,
   "id": "e5c30296-c7b1-4992-a481-aa6e7f1e4ac1",
   "metadata": {},
   "outputs": [
    {
     "data": {
      "text/plain": [
       "[Agg(open=423.79, high=427.93, low=402.54, close=403.84, volume=76825121.0, vwap=412.925, timestamp=1735621200000, transactions=1214553, otc=None),\n",
       " Agg(open=390.1, high=392.7299, low=373.04, close=379.28, volume=109710749.0, vwap=382.1548, timestamp=1735794000000, transactions=2134259, otc=None),\n",
       " Agg(open=381.48, high=411.8799, low=379.45, close=410.44, volume=95423329.0, vwap=397.1371, timestamp=1735880400000, transactions=1446053, otc=None),\n",
       " Agg(open=423.2, high=426.43, low=401.7, close=411.05, volume=85516534.0, vwap=412.4069, timestamp=1736139600000, transactions=1538768, otc=None),\n",
       " Agg(open=405.83, high=414.33, low=390, close=394.36, volume=75699525.0, vwap=397.8035, timestamp=1736226000000, transactions=1307364, otc=None),\n",
       " Agg(open=392.95, high=402.4999, low=387.4, close=394.94, volume=73038805.0, vwap=395.2719, timestamp=1736312400000, transactions=1053233, otc=None),\n",
       " Agg(open=391.4, high=399.28, low=377.29, close=394.74, volume=62287333.0, vwap=392.5447, timestamp=1736485200000, transactions=1013456, otc=None),\n",
       " Agg(open=383.21, high=403.79, low=380.07, close=403.31, volume=67580494.0, vwap=392.8504, timestamp=1736744400000, transactions=1091602, otc=None),\n",
       " Agg(open=414.34, high=422.64, low=394.54, close=396.36, volume=84565022.0, vwap=408.3176, timestamp=1736830800000, transactions=1329525, otc=None),\n",
       " Agg(open=409.9, high=429.8, low=405.661, close=428.22, volume=81375460.0, vwap=419.1476, timestamp=1736917200000, transactions=1270362, otc=None),\n",
       " Agg(open=423.49, high=424, low=409.13, close=413.82, volume=68335151.0, vwap=415.0015, timestamp=1737003600000, transactions=1115835, otc=None),\n",
       " Agg(open=421.5, high=439.74, low=419.75, close=426.5, volume=94991429.0, vwap=430.7975, timestamp=1737090000000, transactions=1408188, otc=None),\n",
       " Agg(open=432.64, high=433.2, low=406.31, close=424.07, volume=87320894.0, vwap=417.5589, timestamp=1737435600000, transactions=1525520, otc=None),\n",
       " Agg(open=416.81, high=428, low=414.59, close=415.11, volume=60963342.0, vwap=419.6731, timestamp=1737522000000, transactions=997855, otc=None),\n",
       " Agg(open=416.06, high=420.73, low=408.95, close=412.38, volume=50690592.0, vwap=412.95, timestamp=1737608400000, transactions=858456, otc=None),\n",
       " Agg(open=414.45, high=418.88, low=405.78, close=406.58, volume=56427149.0, vwap=411.7849, timestamp=1737694800000, transactions=880013, otc=None),\n",
       " Agg(open=394.8, high=406.69, low=389, close=397.15, volume=58125510.0, vwap=397.4668, timestamp=1737954000000, transactions=1169771, otc=None),\n",
       " Agg(open=396.91, high=400.59, low=386.5, close=398.09, volume=48910676.0, vwap=393.9256, timestamp=1738040400000, transactions=832535, otc=None),\n",
       " Agg(open=395.21, high=398.5899, low=384.48, close=389.1, volume=68033648.0, vwap=391.7549, timestamp=1738126800000, transactions=1233281, otc=None),\n",
       " Agg(open=410.78, high=412.5, low=384.41, close=400.28, volume=98092879.0, vwap=399.0416, timestamp=1738213200000, transactions=1520074, otc=None),\n",
       " Agg(open=401.53, high=419.99, low=401.34, close=404.6, volume=83568219.0, vwap=411.3047, timestamp=1738299600000, transactions=1221590, otc=None)]"
      ]
     },
     "execution_count": 114,
     "metadata": {},
     "output_type": "execute_result"
    }
   ],
   "source": [
    "response"
   ]
  },
  {
   "cell_type": "code",
   "execution_count": 33,
   "id": "3b2cc2e2-d2f0-4ccb-97bf-754f378e15a8",
   "metadata": {},
   "outputs": [
    {
     "data": {
      "text/plain": [
       "21"
      ]
     },
     "execution_count": 33,
     "metadata": {},
     "output_type": "execute_result"
    }
   ],
   "source": [
    "len(response)"
   ]
  },
  {
   "cell_type": "code",
   "execution_count": 62,
   "id": "cb4a45ba-eda3-4bd0-855a-31209905dcd7",
   "metadata": {},
   "outputs": [],
   "source": [
    "from pathlib import Path\n",
    "import json"
   ]
  },
  {
   "cell_type": "code",
   "execution_count": 39,
   "id": "32a7148f-63e6-4f11-9173-59440f8080ff",
   "metadata": {},
   "outputs": [
    {
     "data": {
      "text/plain": [
       "PosixPath('/Users/tomsc/Projects/ticker-takehome')"
      ]
     },
     "execution_count": 39,
     "metadata": {},
     "output_type": "execute_result"
    }
   ],
   "source": [
    "Path.cwd()"
   ]
  },
  {
   "cell_type": "code",
   "execution_count": 124,
   "id": "42ee3736-2b04-48d9-bee5-a31e00ec693e",
   "metadata": {},
   "outputs": [],
   "source": [
    "class TickerDate:\n",
    "    def __init__(self, agg: Agg, ticker: str, prior_volume: int):\n",
    "        self.agg = agg\n",
    "        self.ticker = ticker\n",
    "        self.prior_volume = prior_volume\n",
    "\n",
    "    @property\n",
    "    def agg_at_et(self):\n",
    "        return datetime.datetime.fromtimestamp(\n",
    "            agg.timestamp / 1000, tz=pytz.timezone(\"US/Eastern\")\n",
    "        )\n",
    "\n",
    "    @property\n",
    "    def agg_at_utc(self):\n",
    "        return self.agg_at_et.astimezone(pytz.timezone(\"UTC\"))\n",
    "\n",
    "    @property\n",
    "    def agg_date_utc(self) -> str:\n",
    "        return self.agg_at_utc.date().isoformat()\n",
    "\n",
    "    @property\n",
    "    def pth_dir(self):\n",
    "        pth = Path.cwd() / \"storage\" / self.ticker / self.agg_date_utc\n",
    "        pth.mkdir(parents=True, exist_ok=True)\n",
    "        return pth\n",
    "\n",
    "    @property\n",
    "    def pth_file(self):\n",
    "        return self.pth_dir / \"this.json\"\n",
    "\n",
    "    @property\n",
    "    def status(self) -> str:\n",
    "        \"\"\"\n",
    "        ■ Bull: if close > open and volume > previous day's volume\n",
    "        ■ Bear: if close < open and volume > previous day's volume\n",
    "        ■ Neutral: all other cases\n",
    "        \"\"\"\n",
    "        # It's actually hard to work out the yesterday date, as it's prious trading day, better to just use the the i -1 from the results\n",
    "        # yesterday = (self.agg_at_utc - datetime.timedelta(days=1)).date().isoformat()\n",
    "        # yesterday_file_pth = Path.cwd() / \"storage\" / self.ticker / yesterday / \"this.json\"\n",
    "        # if not yesterday_file_pth.exists():\n",
    "        #     return \"Neutral\"\n",
    "\n",
    "        # with yesterday_file_pth.open(\"r\", encoding=\"utf-8\") as f:\n",
    "        #     yesterday_data = json.load(f)\n",
    "\n",
    "        # yday_volume = yesterday_data[\"raw\"][\"volume\"]\n",
    "\n",
    "        if self.agg.close > self.agg.open and self.agg.volume > self.prior_volume:\n",
    "            return \"Bull\"\n",
    "\n",
    "        if self.agg.close < self.agg.open and self.agg.volume > self.prior_volume:\n",
    "            return \"Bear\"\n",
    "\n",
    "        return \"Neutral\"\n",
    "\n",
    "    def to_json(self):\n",
    "        return {\n",
    "            \"raw\": self.agg.__dict__,\n",
    "            \"agg_at_et\": self.agg_at_et.isoformat(),\n",
    "            \"agg_at_utc\": self.agg_at_utc.isoformat(),\n",
    "            \"status\": self.status,\n",
    "        }\n",
    "\n",
    "    def persist(self):\n",
    "        with self.pth_file.open(\"w\", encoding=\"utf-8\") as f:\n",
    "            json.dump(self.to_json(), f)"
   ]
  },
  {
   "cell_type": "code",
   "execution_count": 107,
   "id": "f884d8be-3fce-461c-8cf8-f7c897134e4e",
   "metadata": {},
   "outputs": [],
   "source": [
    "td_0 = TickerDate(agg=response[0], ticker=\"TSLA\")"
   ]
  },
  {
   "cell_type": "code",
   "execution_count": 110,
   "id": "5d8b9192-65b2-460b-b942-2682d234ee22",
   "metadata": {},
   "outputs": [
    {
     "data": {
      "text/plain": [
       "{'raw': {'open': 423.79,\n",
       "  'high': 427.93,\n",
       "  'low': 402.54,\n",
       "  'close': 403.84,\n",
       "  'volume': 76825121.0,\n",
       "  'vwap': 412.925,\n",
       "  'timestamp': 1735621200000,\n",
       "  'transactions': 1214553,\n",
       "  'otc': None},\n",
       " 'agg_at_et': '2024-12-31T00:00:00-05:00',\n",
       " 'agg_at_utc': '2024-12-31T05:00:00+00:00',\n",
       " 'status': 'Neutral'}"
      ]
     },
     "execution_count": 110,
     "metadata": {},
     "output_type": "execute_result"
    }
   ],
   "source": [
    "td_0.to_json()"
   ]
  },
  {
   "cell_type": "code",
   "execution_count": 111,
   "id": "c2b6f665-5d22-412f-b6ae-4e86b24284f6",
   "metadata": {},
   "outputs": [],
   "source": [
    "td_0.persist()"
   ]
  },
  {
   "cell_type": "code",
   "execution_count": 105,
   "id": "25a882f0-9b38-44d2-a153-ded2ca389c0d",
   "metadata": {},
   "outputs": [
    {
     "data": {
      "text/plain": [
       "Agg(open=390.1, high=392.7299, low=373.04, close=379.28, volume=109710749.0, vwap=382.1548, timestamp=1735794000000, transactions=2134259, otc=None)"
      ]
     },
     "execution_count": 105,
     "metadata": {},
     "output_type": "execute_result"
    }
   ],
   "source": [
    "response[1]"
   ]
  },
  {
   "cell_type": "code",
   "execution_count": 112,
   "id": "4da61425-27fd-451e-a8ed-c91523e536e6",
   "metadata": {},
   "outputs": [],
   "source": [
    "td_1 = TickerDate(agg=response[1], ticker=\"TSLA\")"
   ]
  },
  {
   "cell_type": "code",
   "execution_count": 113,
   "id": "42faae13-90c7-48a9-a0c5-e97a9296a23f",
   "metadata": {},
   "outputs": [
    {
     "data": {
      "text/plain": [
       "{'raw': {'open': 390.1,\n",
       "  'high': 392.7299,\n",
       "  'low': 373.04,\n",
       "  'close': 379.28,\n",
       "  'volume': 109710749.0,\n",
       "  'vwap': 382.1548,\n",
       "  'timestamp': 1735794000000,\n",
       "  'transactions': 2134259,\n",
       "  'otc': None},\n",
       " 'agg_at_et': '2024-12-31T00:00:00-05:00',\n",
       " 'agg_at_utc': '2024-12-31T05:00:00+00:00',\n",
       " 'status': 'Neutral'}"
      ]
     },
     "execution_count": 113,
     "metadata": {},
     "output_type": "execute_result"
    }
   ],
   "source": [
    "td_1.to_json()"
   ]
  },
  {
   "cell_type": "code",
   "execution_count": 125,
   "id": "aebf2a3e-2a7b-4f67-88a5-550e3ee30877",
   "metadata": {},
   "outputs": [],
   "source": [
    "prior_volume = None\n",
    "\n",
    "for i, agg in enumerate(response):\n",
    "    if i != 0:\n",
    "        td = TickerDate(agg, ticker=\"TSLA\", prior_volume=prior_volume)\n",
    "        td.persist()\n",
    "\n",
    "    prior_volume = agg.volume"
   ]
  }
 ],
 "metadata": {
  "kernelspec": {
   "display_name": "Python 3 (ipykernel)",
   "language": "python",
   "name": "python3"
  },
  "language_info": {
   "codemirror_mode": {
    "name": "ipython",
    "version": 3
   },
   "file_extension": ".py",
   "mimetype": "text/x-python",
   "name": "python",
   "nbconvert_exporter": "python",
   "pygments_lexer": "ipython3",
   "version": "3.13.6"
  }
 },
 "nbformat": 4,
 "nbformat_minor": 5
}
