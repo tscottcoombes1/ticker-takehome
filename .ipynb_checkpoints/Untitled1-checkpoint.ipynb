{
 "cells": [
  {
   "cell_type": "code",
   "execution_count": 7,
   "id": "d30cfe72-e5c8-4797-bed9-edb2e3cdf0d0",
   "metadata": {},
   "outputs": [
    {
     "data": {
      "text/plain": [
       "True"
      ]
     },
     "execution_count": 7,
     "metadata": {},
     "output_type": "execute_result"
    }
   ],
   "source": [
    "from polygon import RESTClient\n",
    "from polygon.rest.models import Agg\n",
    "from dotenv import load_dotenv\n",
    "import os\n",
    "import datetime\n",
    "\n",
    "load_dotenv()"
   ]
  },
  {
   "cell_type": "code",
   "execution_count": 10,
   "id": "751a344e-1307-4ff7-8850-a76019f2446a",
   "metadata": {},
   "outputs": [],
   "source": [
    "KEY = os.getenv(\"POLYGON_API_KEY\")\n",
    "client = RESTClient(api_key=KEY)\n",
    "ticker = \"TSLA\"\n",
    "trade_date = datetime.datetime(2025,1,1)\n",
    "\n",
    "response = client.get_aggs(\n",
    "    ticker=ticker,\n",
    "    multiplier=1,\n",
    "    timespan=\"day\",\n",
    "    from_=trade_date,\n",
    "    to=datetime.timedelta(days=1) + trade_date,\n",
    "    adjusted=False,\n",
    "    sort=\"asc\",\n",
    "    limit=50_000, #upper limit\n",
    ")"
   ]
  },
  {
   "cell_type": "code",
   "execution_count": 11,
   "id": "965888d8-b416-41b3-8483-04e985928c9e",
   "metadata": {},
   "outputs": [
    {
     "data": {
      "text/plain": [
       "[Agg(open=423.79, high=427.93, low=402.54, close=403.84, volume=76825121.0, vwap=412.925, timestamp=1735621200000, transactions=1214553, otc=None)]"
      ]
     },
     "execution_count": 11,
     "metadata": {},
     "output_type": "execute_result"
    }
   ],
   "source": [
    "response"
   ]
  },
  {
   "cell_type": "code",
   "execution_count": 15,
   "id": "0d97e9a1-0bd1-4df2-98ec-a9e822cfb63f",
   "metadata": {},
   "outputs": [
    {
     "data": {
      "text/plain": [
       "['__annotations__',\n",
       " '__class__',\n",
       " '__dataclass_fields__',\n",
       " '__dataclass_params__',\n",
       " '__delattr__',\n",
       " '__dict__',\n",
       " '__dir__',\n",
       " '__doc__',\n",
       " '__eq__',\n",
       " '__firstlineno__',\n",
       " '__format__',\n",
       " '__ge__',\n",
       " '__getattribute__',\n",
       " '__getstate__',\n",
       " '__gt__',\n",
       " '__hash__',\n",
       " '__init__',\n",
       " '__init_subclass__',\n",
       " '__le__',\n",
       " '__lt__',\n",
       " '__match_args__',\n",
       " '__module__',\n",
       " '__ne__',\n",
       " '__new__',\n",
       " '__reduce__',\n",
       " '__reduce_ex__',\n",
       " '__replace__',\n",
       " '__repr__',\n",
       " '__setattr__',\n",
       " '__sizeof__',\n",
       " '__static_attributes__',\n",
       " '__str__',\n",
       " '__subclasshook__',\n",
       " '__weakref__',\n",
       " 'close',\n",
       " 'from_dict',\n",
       " 'high',\n",
       " 'low',\n",
       " 'open',\n",
       " 'otc',\n",
       " 'timestamp',\n",
       " 'transactions',\n",
       " 'volume',\n",
       " 'vwap']"
      ]
     },
     "execution_count": 15,
     "metadata": {},
     "output_type": "execute_result"
    }
   ],
   "source": [
    "dir(response[0])"
   ]
  },
  {
   "cell_type": "code",
   "execution_count": 16,
   "id": "7a861e02-7ec8-49d2-b8a4-26fb67b5bc8c",
   "metadata": {},
   "outputs": [
    {
     "data": {
      "text/plain": [
       "{'open': 423.79,\n",
       " 'high': 427.93,\n",
       " 'low': 402.54,\n",
       " 'close': 403.84,\n",
       " 'volume': 76825121.0,\n",
       " 'vwap': 412.925,\n",
       " 'timestamp': 1735621200000,\n",
       " 'transactions': 1214553,\n",
       " 'otc': None}"
      ]
     },
     "execution_count": 16,
     "metadata": {},
     "output_type": "execute_result"
    }
   ],
   "source": [
    "response[0].__dict__"
   ]
  },
  {
   "cell_type": "code",
   "execution_count": 17,
   "id": "510a3d40-f9c3-4a7b-86e6-3547c70f5400",
   "metadata": {},
   "outputs": [],
   "source": [
    "agg = response[0]"
   ]
  },
  {
   "cell_type": "code",
   "execution_count": 18,
   "id": "2bc68871-30c5-4a29-b9ff-327a8f257b10",
   "metadata": {},
   "outputs": [
    {
     "data": {
      "text/plain": [
       "1735621200000"
      ]
     },
     "execution_count": 18,
     "metadata": {},
     "output_type": "execute_result"
    }
   ],
   "source": [
    "agg.timestamp"
   ]
  },
  {
   "cell_type": "code",
   "execution_count": 19,
   "id": "e074f42b-310d-41d3-af99-5375ec450d6e",
   "metadata": {},
   "outputs": [
    {
     "data": {
      "text/plain": [
       "int"
      ]
     },
     "execution_count": 19,
     "metadata": {},
     "output_type": "execute_result"
    }
   ],
   "source": [
    "type(agg.timestamp)"
   ]
  },
  {
   "cell_type": "code",
   "execution_count": 25,
   "id": "e378a3ec-1e62-47b6-87b7-3c51260272a3",
   "metadata": {},
   "outputs": [
    {
     "data": {
      "text/plain": [
       "datetime.datetime(2024, 12, 31, 5, 0)"
      ]
     },
     "execution_count": 25,
     "metadata": {},
     "output_type": "execute_result"
    }
   ],
   "source": [
    "datetime.datetime.fromtimestamp(agg.timestamp/1000)"
   ]
  },
  {
   "cell_type": "code",
   "execution_count": 26,
   "id": "956e943a-d07d-4b93-bdaa-b4b83405832b",
   "metadata": {},
   "outputs": [],
   "source": [
    "import pytz"
   ]
  },
  {
   "cell_type": "code",
   "execution_count": 29,
   "id": "09cfe51e-3860-476c-944c-b5c96ac72be6",
   "metadata": {},
   "outputs": [
    {
     "data": {
      "text/plain": [
       "datetime.datetime(2024, 12, 31, 0, 0, tzinfo=<DstTzInfo 'US/Eastern' EST-1 day, 19:00:00 STD>)"
      ]
     },
     "execution_count": 29,
     "metadata": {},
     "output_type": "execute_result"
    }
   ],
   "source": [
    "dt_et = datetime.datetime.fromtimestamp(agg.timestamp/1000, tz=pytz.timezone(\"US/Eastern\"))\n",
    "dt_et"
   ]
  },
  {
   "cell_type": "code",
   "execution_count": 30,
   "id": "e3021576-d26b-46e4-be17-15a9f8026a18",
   "metadata": {},
   "outputs": [
    {
     "data": {
      "text/plain": [
       "datetime.datetime(2024, 12, 31, 5, 0, tzinfo=<UTC>)"
      ]
     },
     "execution_count": 30,
     "metadata": {},
     "output_type": "execute_result"
    }
   ],
   "source": [
    "dt_et.astimezone(pytz.timezone(\"UTC\"))"
   ]
  },
  {
   "cell_type": "markdown",
   "id": "87c8d088-ed1d-4ca2-89ca-83284d22c1ab",
   "metadata": {},
   "source": [
    "Looking at getting more than one day at a time"
   ]
  },
  {
   "cell_type": "code",
   "execution_count": 31,
   "id": "fcd0a311-920e-49a4-8a86-c08717cbfac6",
   "metadata": {},
   "outputs": [],
   "source": [
    "response = client.get_aggs(\n",
    "    ticker=ticker,\n",
    "    multiplier=1,\n",
    "    timespan=\"day\",\n",
    "    from_=trade_date,\n",
    "    to=datetime.datetime(2025,2,1),\n",
    "    adjusted=False,\n",
    "    sort=\"asc\",\n",
    "    limit=50_000, #upper limit\n",
    ")"
   ]
  },
  {
   "cell_type": "code",
   "execution_count": 33,
   "id": "3b2cc2e2-d2f0-4ccb-97bf-754f378e15a8",
   "metadata": {},
   "outputs": [
    {
     "data": {
      "text/plain": [
       "21"
      ]
     },
     "execution_count": 33,
     "metadata": {},
     "output_type": "execute_result"
    }
   ],
   "source": [
    "len(response)"
   ]
  },
  {
   "cell_type": "code",
   "execution_count": 62,
   "id": "cb4a45ba-eda3-4bd0-855a-31209905dcd7",
   "metadata": {},
   "outputs": [],
   "source": [
    "from pathlib import Path\n",
    "import json"
   ]
  },
  {
   "cell_type": "code",
   "execution_count": 39,
   "id": "32a7148f-63e6-4f11-9173-59440f8080ff",
   "metadata": {},
   "outputs": [
    {
     "data": {
      "text/plain": [
       "PosixPath('/Users/tomsc/Projects/ticker-takehome')"
      ]
     },
     "execution_count": 39,
     "metadata": {},
     "output_type": "execute_result"
    }
   ],
   "source": [
    "Path.cwd()"
   ]
  },
  {
   "cell_type": "code",
   "execution_count": 92,
   "id": "42ee3736-2b04-48d9-bee5-a31e00ec693e",
   "metadata": {},
   "outputs": [],
   "source": [
    "class TickerDate:\n",
    "    def __init__(self, agg: Agg, ticker: str):\n",
    "        self.agg = agg\n",
    "        self.ticker = ticker\n",
    "\n",
    "    @property\n",
    "    def agg_at_et(self):\n",
    "        return datetime.datetime.fromtimestamp(agg.timestamp/1000, tz=pytz.timezone(\"US/Eastern\"))\n",
    "\n",
    "    @property\n",
    "    def agg_at_utc(self):\n",
    "        return self.agg_at_et.astimezone(pytz.timezone(\"UTC\"))\n",
    "\n",
    "    @property\n",
    "    def agg_date_utc(self) -> str:\n",
    "        return self.agg_at_utc.date().isoformat()\n",
    "\n",
    "    @property\n",
    "    def pth_dir(self):\n",
    "        pth = Path.cwd() / \"storage\" / self.ticker / self.agg_date_utc\n",
    "        pth.mkdir(parents=True, exist_ok=True)\n",
    "        return pth\n",
    "\n",
    "    @property\n",
    "    def pth_file(self):\n",
    "        return self.pth_dir / \"this.json\"\n",
    "\n",
    "    @property\n",
    "    def status(self) -> str:\n",
    "        \"\"\"\n",
    "        ■ Bull: if close > open and volume > previous day's volume\n",
    "        ■ Bear: if close < open and volume > previous day's volume\n",
    "        ■ Neutral: all other cases\n",
    "        \"\"\"\n",
    "        yesterday = self.agg_at_utc - datetime.timedelta(days=1)\n",
    "        yesterday_file_pth = Path.cwd() / \"storage\" / self.ticker / yesterday / \"this.json\"\n",
    "        if not yetserday_file_pth.exists():\n",
    "            return \"Neutral\"\n",
    "\n",
    "        yesterday_data = json.load(yesterday_file_pth)\n",
    "\n",
    "        yday_volume = yesterday_data[\"raw\"][\"volume\"]\n",
    "        \n",
    "        if self.agg.close > self.agg.open and self.agg.volume > yday_volume:\n",
    "            return \"Bull\"\n",
    "\n",
    "        if self.agg.close < self.agg.open and self.agg.voluume > yday_volume:\n",
    "            return \"Bear\"\n",
    "\n",
    "        return \"Neutral\"\n",
    "        \n",
    "\n",
    "    def to_json(self):\n",
    "        return {\n",
    "            \"raw\": self.agg.__dict__,\n",
    "            \"agg_at_et\": self.agg_at_et.isoformat(),\n",
    "            \"agg_at_utc\": self.agg_at_utc.isoformat(),\n",
    "            \"status\": self.status\n",
    "        }\n",
    "\n",
    "    def persist(self):\n",
    "        with self.pth_file.open(\"w\", encoding=\"utf-8\") as f:\n",
    "            json.dump(self.to_json(), f)\n",
    "            "
   ]
  },
  {
   "cell_type": "code",
   "execution_count": 93,
   "id": "f884d8be-3fce-461c-8cf8-f7c897134e4e",
   "metadata": {},
   "outputs": [],
   "source": [
    "td = TickerDate(agg=response[0], ticker=\"TSLA\")"
   ]
  },
  {
   "cell_type": "code",
   "execution_count": 94,
   "id": "c2b6f665-5d22-412f-b6ae-4e86b24284f6",
   "metadata": {},
   "outputs": [
    {
     "ename": "TypeError",
     "evalue": "unsupported operand type(s) for /: 'PosixPath' and 'datetime.datetime'",
     "output_type": "error",
     "traceback": [
      "\u001b[31m---------------------------------------------------------------------------\u001b[39m",
      "\u001b[31mTypeError\u001b[39m                                 Traceback (most recent call last)",
      "\u001b[36mCell\u001b[39m\u001b[36m \u001b[39m\u001b[32mIn[94]\u001b[39m\u001b[32m, line 1\u001b[39m\n\u001b[32m----> \u001b[39m\u001b[32m1\u001b[39m \u001b[43mtd\u001b[49m\u001b[43m.\u001b[49m\u001b[43mpersist\u001b[49m\u001b[43m(\u001b[49m\u001b[43m)\u001b[49m\n",
      "\u001b[36mCell\u001b[39m\u001b[36m \u001b[39m\u001b[32mIn[92]\u001b[39m\u001b[32m, line 62\u001b[39m, in \u001b[36mTickerDate.persist\u001b[39m\u001b[34m(self)\u001b[39m\n\u001b[32m     60\u001b[39m \u001b[38;5;28;01mdef\u001b[39;00m\u001b[38;5;250m \u001b[39m\u001b[34mpersist\u001b[39m(\u001b[38;5;28mself\u001b[39m):\n\u001b[32m     61\u001b[39m     \u001b[38;5;28;01mwith\u001b[39;00m \u001b[38;5;28mself\u001b[39m.pth_file.open(\u001b[33m\"\u001b[39m\u001b[33mw\u001b[39m\u001b[33m\"\u001b[39m, encoding=\u001b[33m\"\u001b[39m\u001b[33mutf-8\u001b[39m\u001b[33m\"\u001b[39m) \u001b[38;5;28;01mas\u001b[39;00m f:\n\u001b[32m---> \u001b[39m\u001b[32m62\u001b[39m         json.dump(\u001b[38;5;28;43mself\u001b[39;49m\u001b[43m.\u001b[49m\u001b[43mto_json\u001b[49m\u001b[43m(\u001b[49m\u001b[43m)\u001b[49m, f)\n",
      "\u001b[36mCell\u001b[39m\u001b[36m \u001b[39m\u001b[32mIn[92]\u001b[39m\u001b[32m, line 57\u001b[39m, in \u001b[36mTickerDate.to_json\u001b[39m\u001b[34m(self)\u001b[39m\n\u001b[32m     52\u001b[39m \u001b[38;5;28;01mdef\u001b[39;00m\u001b[38;5;250m \u001b[39m\u001b[34mto_json\u001b[39m(\u001b[38;5;28mself\u001b[39m):\n\u001b[32m     53\u001b[39m     \u001b[38;5;28;01mreturn\u001b[39;00m {\n\u001b[32m     54\u001b[39m         \u001b[33m\"\u001b[39m\u001b[33mraw\u001b[39m\u001b[33m\"\u001b[39m: \u001b[38;5;28mself\u001b[39m.agg.\u001b[34m__dict__\u001b[39m,\n\u001b[32m     55\u001b[39m         \u001b[33m\"\u001b[39m\u001b[33magg_at_et\u001b[39m\u001b[33m\"\u001b[39m: \u001b[38;5;28mself\u001b[39m.agg_at_et.isoformat(),\n\u001b[32m     56\u001b[39m         \u001b[33m\"\u001b[39m\u001b[33magg_at_utc\u001b[39m\u001b[33m\"\u001b[39m: \u001b[38;5;28mself\u001b[39m.agg_at_utc.isoformat(),\n\u001b[32m---> \u001b[39m\u001b[32m57\u001b[39m         \u001b[33m\"\u001b[39m\u001b[33mstatus\u001b[39m\u001b[33m\"\u001b[39m: \u001b[38;5;28;43mself\u001b[39;49m\u001b[43m.\u001b[49m\u001b[43mstatus\u001b[49m\n\u001b[32m     58\u001b[39m     }\n",
      "\u001b[36mCell\u001b[39m\u001b[36m \u001b[39m\u001b[32mIn[92]\u001b[39m\u001b[32m, line 35\u001b[39m, in \u001b[36mTickerDate.status\u001b[39m\u001b[34m(self)\u001b[39m\n\u001b[32m     28\u001b[39m \u001b[38;5;129m@property\u001b[39m\n\u001b[32m     29\u001b[39m \u001b[38;5;28;01mdef\u001b[39;00m\u001b[38;5;250m \u001b[39m\u001b[34mstatus\u001b[39m(\u001b[38;5;28mself\u001b[39m) -> \u001b[38;5;28mstr\u001b[39m:\n\u001b[32m     30\u001b[39m \u001b[38;5;250m    \u001b[39m\u001b[33;03m\"\"\"\u001b[39;00m\n\u001b[32m     31\u001b[39m \u001b[33;03m    ■ Bull: if close > open and volume > previous day's volume\u001b[39;00m\n\u001b[32m     32\u001b[39m \u001b[33;03m    ■ Bear: if close < open and volume > previous day's volume\u001b[39;00m\n\u001b[32m     33\u001b[39m \u001b[33;03m    ■ Neutral: all other cases\u001b[39;00m\n\u001b[32m     34\u001b[39m \u001b[33;03m    \"\"\"\u001b[39;00m\n\u001b[32m---> \u001b[39m\u001b[32m35\u001b[39m     yesterday_file_pth = \u001b[43mPath\u001b[49m\u001b[43m.\u001b[49m\u001b[43mcwd\u001b[49m\u001b[43m(\u001b[49m\u001b[43m)\u001b[49m\u001b[43m \u001b[49m\u001b[43m/\u001b[49m\u001b[43m \u001b[49m\u001b[33;43m\"\u001b[39;49m\u001b[33;43mstorage\u001b[39;49m\u001b[33;43m\"\u001b[39;49m\u001b[43m \u001b[49m\u001b[43m/\u001b[49m\u001b[43m \u001b[49m\u001b[38;5;28;43mself\u001b[39;49m\u001b[43m.\u001b[49m\u001b[43mticker\u001b[49m\u001b[43m \u001b[49m\u001b[43m/\u001b[49m\u001b[43m \u001b[49m\u001b[43m(\u001b[49m\u001b[38;5;28;43mself\u001b[39;49m\u001b[43m.\u001b[49m\u001b[43magg_at_utc\u001b[49m\u001b[43m \u001b[49m\u001b[43m-\u001b[49m\u001b[43m \u001b[49m\u001b[43mdatetime\u001b[49m\u001b[43m.\u001b[49m\u001b[43mtimedelta\u001b[49m\u001b[43m(\u001b[49m\u001b[43mdays\u001b[49m\u001b[43m=\u001b[49m\u001b[32;43m1\u001b[39;49m\u001b[43m)\u001b[49m\u001b[43m)\u001b[49m / \u001b[33m\"\u001b[39m\u001b[33mthis.json\u001b[39m\u001b[33m\"\u001b[39m\n\u001b[32m     36\u001b[39m     \u001b[38;5;28;01mif\u001b[39;00m \u001b[38;5;129;01mnot\u001b[39;00m yetserday_file_pth.exists():\n\u001b[32m     37\u001b[39m         \u001b[38;5;28;01mreturn\u001b[39;00m \u001b[33m\"\u001b[39m\u001b[33mNeutral\u001b[39m\u001b[33m\"\u001b[39m\n",
      "\u001b[31mTypeError\u001b[39m: unsupported operand type(s) for /: 'PosixPath' and 'datetime.datetime'"
     ]
    }
   ],
   "source": [
    "td.persist()"
   ]
  }
 ],
 "metadata": {
  "kernelspec": {
   "display_name": "Python 3 (ipykernel)",
   "language": "python",
   "name": "python3"
  },
  "language_info": {
   "codemirror_mode": {
    "name": "ipython",
    "version": 3
   },
   "file_extension": ".py",
   "mimetype": "text/x-python",
   "name": "python",
   "nbconvert_exporter": "python",
   "pygments_lexer": "ipython3",
   "version": "3.13.6"
  }
 },
 "nbformat": 4,
 "nbformat_minor": 5
}
